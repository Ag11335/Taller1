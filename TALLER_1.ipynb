{
  "nbformat": 4,
  "nbformat_minor": 0,
  "metadata": {
    "colab": {
      "provenance": []
    },
    "kernelspec": {
      "name": "python3",
      "display_name": "Python 3"
    },
    "language_info": {
      "name": "python"
    }
  },
  "cells": [
    {
      "cell_type": "markdown",
      "source": [
        "**TALLER 1**\n",
        "\n",
        "**Sergio Amado**\n",
        "\n",
        "**Ana María Garzón** \n",
        "\n"
      ],
      "metadata": {
        "id": "JtXzWDer5okD"
      }
    },
    {
      "cell_type": "code",
      "source": [
        "import pandas_datareader as wb\n",
        "import pandas as pd\n",
        "import numpy as np\n",
        "from scipy.stats import norm\n",
        "from matplotlib import pyplot as plt\n",
        "!pip install --quiet yfinance \n",
        "import yfinance as yf\n",
        "from pandas_datareader import data as wb\n",
        "from datetime import datetime\n",
        "yf.pdr_override()\n",
        "import scipy.stats as stats"
      ],
      "metadata": {
        "id": "U36AcANzXJwT"
      },
      "execution_count": 22,
      "outputs": []
    },
    {
      "cell_type": "markdown",
      "source": [
        "Punto 1"
      ],
      "metadata": {
        "id": "-Qc82lkR1yqU"
      }
    },
    {
      "cell_type": "markdown",
      "source": [
        "Las acciones escogidas fueron Ferrari y \n",
        "\n",
        "---\n",
        "\n",
        "Ford, las dos del mismo sector"
      ],
      "metadata": {
        "id": "tJFpmCe61u--"
      }
    },
    {
      "cell_type": "code",
      "source": [
        "acciones=[\"RACE\",\"F\"]\n",
        "inicio=\"2021-01-01\"\n",
        "fin=\"2022-12-31\"\n",
        "precios= wb.DataReader(acciones,inicio,fin,interval=\"1d\")\n",
        "precios=precios.loc[:,\"Adj Close\"]"
      ],
      "metadata": {
        "colab": {
          "base_uri": "https://localhost:8080/"
        },
        "id": "zBaJ79TuXQAc",
        "outputId": "deaf7783-a229-44bb-cc3b-c2e5dba10092"
      },
      "execution_count": 23,
      "outputs": [
        {
          "output_type": "stream",
          "name": "stdout",
          "text": [
            "[*********************100%***********************]  2 of 2 completed\n"
          ]
        }
      ]
    },
    {
      "cell_type": "markdown",
      "source": [
        "**a. Calcule los retornos logarítmicos diarios, mensuales y anualizados. Presente los\n",
        "resultados en una tabla.** "
      ],
      "metadata": {
        "id": "vZUmHIV22Ksa"
      }
    },
    {
      "cell_type": "code",
      "source": [
        "retornos_d = np.log(precios/precios.shift(1)).dropna()\n",
        "retornos_d"
      ],
      "metadata": {
        "colab": {
          "base_uri": "https://localhost:8080/",
          "height": 455
        },
        "id": "JLO-Y5ov2ahG",
        "outputId": "4b11db1e-0b43-42ba-fe4f-933b7c80e5ca"
      },
      "execution_count": 24,
      "outputs": [
        {
          "output_type": "execute_result",
          "data": {
            "text/plain": [
              "                   F      RACE\n",
              "Date                          \n",
              "2021-01-05  0.015143 -0.004105\n",
              "2021-01-06  0.021728 -0.019338\n",
              "2021-01-07  0.024582  0.001577\n",
              "2021-01-08 -0.006645 -0.018770\n",
              "2021-01-11  0.032790 -0.000046\n",
              "...              ...       ...\n",
              "2022-12-23  0.004411 -0.007319\n",
              "2022-12-27 -0.014185  0.004681\n",
              "2022-12-28 -0.022574 -0.008289\n",
              "2022-12-29  0.052480  0.029709\n",
              "2022-12-30  0.007769 -0.011003\n",
              "\n",
              "[502 rows x 2 columns]"
            ],
            "text/html": [
              "\n",
              "  <div id=\"df-9c775bbb-65a8-424d-a559-ddb6cc53a1b5\">\n",
              "    <div class=\"colab-df-container\">\n",
              "      <div>\n",
              "<style scoped>\n",
              "    .dataframe tbody tr th:only-of-type {\n",
              "        vertical-align: middle;\n",
              "    }\n",
              "\n",
              "    .dataframe tbody tr th {\n",
              "        vertical-align: top;\n",
              "    }\n",
              "\n",
              "    .dataframe thead th {\n",
              "        text-align: right;\n",
              "    }\n",
              "</style>\n",
              "<table border=\"1\" class=\"dataframe\">\n",
              "  <thead>\n",
              "    <tr style=\"text-align: right;\">\n",
              "      <th></th>\n",
              "      <th>F</th>\n",
              "      <th>RACE</th>\n",
              "    </tr>\n",
              "    <tr>\n",
              "      <th>Date</th>\n",
              "      <th></th>\n",
              "      <th></th>\n",
              "    </tr>\n",
              "  </thead>\n",
              "  <tbody>\n",
              "    <tr>\n",
              "      <th>2021-01-05</th>\n",
              "      <td>0.015143</td>\n",
              "      <td>-0.004105</td>\n",
              "    </tr>\n",
              "    <tr>\n",
              "      <th>2021-01-06</th>\n",
              "      <td>0.021728</td>\n",
              "      <td>-0.019338</td>\n",
              "    </tr>\n",
              "    <tr>\n",
              "      <th>2021-01-07</th>\n",
              "      <td>0.024582</td>\n",
              "      <td>0.001577</td>\n",
              "    </tr>\n",
              "    <tr>\n",
              "      <th>2021-01-08</th>\n",
              "      <td>-0.006645</td>\n",
              "      <td>-0.018770</td>\n",
              "    </tr>\n",
              "    <tr>\n",
              "      <th>2021-01-11</th>\n",
              "      <td>0.032790</td>\n",
              "      <td>-0.000046</td>\n",
              "    </tr>\n",
              "    <tr>\n",
              "      <th>...</th>\n",
              "      <td>...</td>\n",
              "      <td>...</td>\n",
              "    </tr>\n",
              "    <tr>\n",
              "      <th>2022-12-23</th>\n",
              "      <td>0.004411</td>\n",
              "      <td>-0.007319</td>\n",
              "    </tr>\n",
              "    <tr>\n",
              "      <th>2022-12-27</th>\n",
              "      <td>-0.014185</td>\n",
              "      <td>0.004681</td>\n",
              "    </tr>\n",
              "    <tr>\n",
              "      <th>2022-12-28</th>\n",
              "      <td>-0.022574</td>\n",
              "      <td>-0.008289</td>\n",
              "    </tr>\n",
              "    <tr>\n",
              "      <th>2022-12-29</th>\n",
              "      <td>0.052480</td>\n",
              "      <td>0.029709</td>\n",
              "    </tr>\n",
              "    <tr>\n",
              "      <th>2022-12-30</th>\n",
              "      <td>0.007769</td>\n",
              "      <td>-0.011003</td>\n",
              "    </tr>\n",
              "  </tbody>\n",
              "</table>\n",
              "<p>502 rows × 2 columns</p>\n",
              "</div>\n",
              "      <button class=\"colab-df-convert\" onclick=\"convertToInteractive('df-9c775bbb-65a8-424d-a559-ddb6cc53a1b5')\"\n",
              "              title=\"Convert this dataframe to an interactive table.\"\n",
              "              style=\"display:none;\">\n",
              "        \n",
              "  <svg xmlns=\"http://www.w3.org/2000/svg\" height=\"24px\"viewBox=\"0 0 24 24\"\n",
              "       width=\"24px\">\n",
              "    <path d=\"M0 0h24v24H0V0z\" fill=\"none\"/>\n",
              "    <path d=\"M18.56 5.44l.94 2.06.94-2.06 2.06-.94-2.06-.94-.94-2.06-.94 2.06-2.06.94zm-11 1L8.5 8.5l.94-2.06 2.06-.94-2.06-.94L8.5 2.5l-.94 2.06-2.06.94zm10 10l.94 2.06.94-2.06 2.06-.94-2.06-.94-.94-2.06-.94 2.06-2.06.94z\"/><path d=\"M17.41 7.96l-1.37-1.37c-.4-.4-.92-.59-1.43-.59-.52 0-1.04.2-1.43.59L10.3 9.45l-7.72 7.72c-.78.78-.78 2.05 0 2.83L4 21.41c.39.39.9.59 1.41.59.51 0 1.02-.2 1.41-.59l7.78-7.78 2.81-2.81c.8-.78.8-2.07 0-2.86zM5.41 20L4 18.59l7.72-7.72 1.47 1.35L5.41 20z\"/>\n",
              "  </svg>\n",
              "      </button>\n",
              "      \n",
              "  <style>\n",
              "    .colab-df-container {\n",
              "      display:flex;\n",
              "      flex-wrap:wrap;\n",
              "      gap: 12px;\n",
              "    }\n",
              "\n",
              "    .colab-df-convert {\n",
              "      background-color: #E8F0FE;\n",
              "      border: none;\n",
              "      border-radius: 50%;\n",
              "      cursor: pointer;\n",
              "      display: none;\n",
              "      fill: #1967D2;\n",
              "      height: 32px;\n",
              "      padding: 0 0 0 0;\n",
              "      width: 32px;\n",
              "    }\n",
              "\n",
              "    .colab-df-convert:hover {\n",
              "      background-color: #E2EBFA;\n",
              "      box-shadow: 0px 1px 2px rgba(60, 64, 67, 0.3), 0px 1px 3px 1px rgba(60, 64, 67, 0.15);\n",
              "      fill: #174EA6;\n",
              "    }\n",
              "\n",
              "    [theme=dark] .colab-df-convert {\n",
              "      background-color: #3B4455;\n",
              "      fill: #D2E3FC;\n",
              "    }\n",
              "\n",
              "    [theme=dark] .colab-df-convert:hover {\n",
              "      background-color: #434B5C;\n",
              "      box-shadow: 0px 1px 3px 1px rgba(0, 0, 0, 0.15);\n",
              "      filter: drop-shadow(0px 1px 2px rgba(0, 0, 0, 0.3));\n",
              "      fill: #FFFFFF;\n",
              "    }\n",
              "  </style>\n",
              "\n",
              "      <script>\n",
              "        const buttonEl =\n",
              "          document.querySelector('#df-9c775bbb-65a8-424d-a559-ddb6cc53a1b5 button.colab-df-convert');\n",
              "        buttonEl.style.display =\n",
              "          google.colab.kernel.accessAllowed ? 'block' : 'none';\n",
              "\n",
              "        async function convertToInteractive(key) {\n",
              "          const element = document.querySelector('#df-9c775bbb-65a8-424d-a559-ddb6cc53a1b5');\n",
              "          const dataTable =\n",
              "            await google.colab.kernel.invokeFunction('convertToInteractive',\n",
              "                                                     [key], {});\n",
              "          if (!dataTable) return;\n",
              "\n",
              "          const docLinkHtml = 'Like what you see? Visit the ' +\n",
              "            '<a target=\"_blank\" href=https://colab.research.google.com/notebooks/data_table.ipynb>data table notebook</a>'\n",
              "            + ' to learn more about interactive tables.';\n",
              "          element.innerHTML = '';\n",
              "          dataTable['output_type'] = 'display_data';\n",
              "          await google.colab.output.renderOutput(dataTable, element);\n",
              "          const docLink = document.createElement('div');\n",
              "          docLink.innerHTML = docLinkHtml;\n",
              "          element.appendChild(docLink);\n",
              "        }\n",
              "      </script>\n",
              "    </div>\n",
              "  </div>\n",
              "  "
            ]
          },
          "metadata": {},
          "execution_count": 24
        }
      ]
    },
    {
      "cell_type": "code",
      "source": [
        "#retornos diarios\n",
        "retornos_d.mean()"
      ],
      "metadata": {
        "colab": {
          "base_uri": "https://localhost:8080/"
        },
        "id": "IONzdnFU2es_",
        "outputId": "6828e864-23de-40f0-c3bb-654934f8530d"
      },
      "execution_count": 25,
      "outputs": [
        {
          "output_type": "execute_result",
          "data": {
            "text/plain": [
              "F       0.000694\n",
              "RACE   -0.000092\n",
              "dtype: float64"
            ]
          },
          "metadata": {},
          "execution_count": 25
        }
      ]
    },
    {
      "cell_type": "code",
      "source": [
        "#Retornos anuales \n",
        "retornos_d.mean()*252"
      ],
      "metadata": {
        "colab": {
          "base_uri": "https://localhost:8080/"
        },
        "id": "AoXGOyYm2gLi",
        "outputId": "ea6bd444-a3e6-4904-c614-7ab107682835"
      },
      "execution_count": 26,
      "outputs": [
        {
          "output_type": "execute_result",
          "data": {
            "text/plain": [
              "F       0.174832\n",
              "RACE   -0.023289\n",
              "dtype: float64"
            ]
          },
          "metadata": {},
          "execution_count": 26
        }
      ]
    },
    {
      "cell_type": "code",
      "source": [
        "#Retornos mensuales\n",
        "retornos_d.mean()*21"
      ],
      "metadata": {
        "colab": {
          "base_uri": "https://localhost:8080/"
        },
        "id": "jQcybFOp2ibe",
        "outputId": "443a15ba-ba56-406e-cada-ae1ec4f1294d"
      },
      "execution_count": 27,
      "outputs": [
        {
          "output_type": "execute_result",
          "data": {
            "text/plain": [
              "F       0.014569\n",
              "RACE   -0.001941\n",
              "dtype: float64"
            ]
          },
          "metadata": {},
          "execution_count": 27
        }
      ]
    },
    {
      "cell_type": "code",
      "source": [
        "#representación de los distintos retornos\n",
        "tabla={\"Ticket\":[\"RACE\",\"F\"],\n",
        "               \"retornos_d\":[retornos_d[\"RACE\"].mean(),retornos_d[\"F\"].mean()],\n",
        "               \"retornos_a\":[retornos_d[\"RACE\"].mean()*252,retornos_d[\"F\"].mean()*252],\n",
        "               \"retornos_m\":[retornos_d[\"RACE\"].mean()*21,retornos_d[\"F\"].mean()*21]}\n",
        "             \n",
        "accion=pd.DataFrame(tabla,index=[\"RACE\",\"F\"])\n",
        "accion"
      ],
      "metadata": {
        "colab": {
          "base_uri": "https://localhost:8080/",
          "height": 112
        },
        "id": "hcXh-ygf2kZA",
        "outputId": "af44a481-9cfa-49dd-ac8e-0dfa3edf7ca4"
      },
      "execution_count": 28,
      "outputs": [
        {
          "output_type": "execute_result",
          "data": {
            "text/plain": [
              "     Ticket  retornos_d  retornos_a  retornos_m\n",
              "RACE   RACE   -0.000092   -0.023289   -0.001941\n",
              "F         F    0.000694    0.174832    0.014569"
            ],
            "text/html": [
              "\n",
              "  <div id=\"df-0cc8a6cc-0030-40f0-be83-0d73f67a3e62\">\n",
              "    <div class=\"colab-df-container\">\n",
              "      <div>\n",
              "<style scoped>\n",
              "    .dataframe tbody tr th:only-of-type {\n",
              "        vertical-align: middle;\n",
              "    }\n",
              "\n",
              "    .dataframe tbody tr th {\n",
              "        vertical-align: top;\n",
              "    }\n",
              "\n",
              "    .dataframe thead th {\n",
              "        text-align: right;\n",
              "    }\n",
              "</style>\n",
              "<table border=\"1\" class=\"dataframe\">\n",
              "  <thead>\n",
              "    <tr style=\"text-align: right;\">\n",
              "      <th></th>\n",
              "      <th>Ticket</th>\n",
              "      <th>retornos_d</th>\n",
              "      <th>retornos_a</th>\n",
              "      <th>retornos_m</th>\n",
              "    </tr>\n",
              "  </thead>\n",
              "  <tbody>\n",
              "    <tr>\n",
              "      <th>RACE</th>\n",
              "      <td>RACE</td>\n",
              "      <td>-0.000092</td>\n",
              "      <td>-0.023289</td>\n",
              "      <td>-0.001941</td>\n",
              "    </tr>\n",
              "    <tr>\n",
              "      <th>F</th>\n",
              "      <td>F</td>\n",
              "      <td>0.000694</td>\n",
              "      <td>0.174832</td>\n",
              "      <td>0.014569</td>\n",
              "    </tr>\n",
              "  </tbody>\n",
              "</table>\n",
              "</div>\n",
              "      <button class=\"colab-df-convert\" onclick=\"convertToInteractive('df-0cc8a6cc-0030-40f0-be83-0d73f67a3e62')\"\n",
              "              title=\"Convert this dataframe to an interactive table.\"\n",
              "              style=\"display:none;\">\n",
              "        \n",
              "  <svg xmlns=\"http://www.w3.org/2000/svg\" height=\"24px\"viewBox=\"0 0 24 24\"\n",
              "       width=\"24px\">\n",
              "    <path d=\"M0 0h24v24H0V0z\" fill=\"none\"/>\n",
              "    <path d=\"M18.56 5.44l.94 2.06.94-2.06 2.06-.94-2.06-.94-.94-2.06-.94 2.06-2.06.94zm-11 1L8.5 8.5l.94-2.06 2.06-.94-2.06-.94L8.5 2.5l-.94 2.06-2.06.94zm10 10l.94 2.06.94-2.06 2.06-.94-2.06-.94-.94-2.06-.94 2.06-2.06.94z\"/><path d=\"M17.41 7.96l-1.37-1.37c-.4-.4-.92-.59-1.43-.59-.52 0-1.04.2-1.43.59L10.3 9.45l-7.72 7.72c-.78.78-.78 2.05 0 2.83L4 21.41c.39.39.9.59 1.41.59.51 0 1.02-.2 1.41-.59l7.78-7.78 2.81-2.81c.8-.78.8-2.07 0-2.86zM5.41 20L4 18.59l7.72-7.72 1.47 1.35L5.41 20z\"/>\n",
              "  </svg>\n",
              "      </button>\n",
              "      \n",
              "  <style>\n",
              "    .colab-df-container {\n",
              "      display:flex;\n",
              "      flex-wrap:wrap;\n",
              "      gap: 12px;\n",
              "    }\n",
              "\n",
              "    .colab-df-convert {\n",
              "      background-color: #E8F0FE;\n",
              "      border: none;\n",
              "      border-radius: 50%;\n",
              "      cursor: pointer;\n",
              "      display: none;\n",
              "      fill: #1967D2;\n",
              "      height: 32px;\n",
              "      padding: 0 0 0 0;\n",
              "      width: 32px;\n",
              "    }\n",
              "\n",
              "    .colab-df-convert:hover {\n",
              "      background-color: #E2EBFA;\n",
              "      box-shadow: 0px 1px 2px rgba(60, 64, 67, 0.3), 0px 1px 3px 1px rgba(60, 64, 67, 0.15);\n",
              "      fill: #174EA6;\n",
              "    }\n",
              "\n",
              "    [theme=dark] .colab-df-convert {\n",
              "      background-color: #3B4455;\n",
              "      fill: #D2E3FC;\n",
              "    }\n",
              "\n",
              "    [theme=dark] .colab-df-convert:hover {\n",
              "      background-color: #434B5C;\n",
              "      box-shadow: 0px 1px 3px 1px rgba(0, 0, 0, 0.15);\n",
              "      filter: drop-shadow(0px 1px 2px rgba(0, 0, 0, 0.3));\n",
              "      fill: #FFFFFF;\n",
              "    }\n",
              "  </style>\n",
              "\n",
              "      <script>\n",
              "        const buttonEl =\n",
              "          document.querySelector('#df-0cc8a6cc-0030-40f0-be83-0d73f67a3e62 button.colab-df-convert');\n",
              "        buttonEl.style.display =\n",
              "          google.colab.kernel.accessAllowed ? 'block' : 'none';\n",
              "\n",
              "        async function convertToInteractive(key) {\n",
              "          const element = document.querySelector('#df-0cc8a6cc-0030-40f0-be83-0d73f67a3e62');\n",
              "          const dataTable =\n",
              "            await google.colab.kernel.invokeFunction('convertToInteractive',\n",
              "                                                     [key], {});\n",
              "          if (!dataTable) return;\n",
              "\n",
              "          const docLinkHtml = 'Like what you see? Visit the ' +\n",
              "            '<a target=\"_blank\" href=https://colab.research.google.com/notebooks/data_table.ipynb>data table notebook</a>'\n",
              "            + ' to learn more about interactive tables.';\n",
              "          element.innerHTML = '';\n",
              "          dataTable['output_type'] = 'display_data';\n",
              "          await google.colab.output.renderOutput(dataTable, element);\n",
              "          const docLink = document.createElement('div');\n",
              "          docLink.innerHTML = docLinkHtml;\n",
              "          element.appendChild(docLink);\n",
              "        }\n",
              "      </script>\n",
              "    </div>\n",
              "  </div>\n",
              "  "
            ]
          },
          "metadata": {},
          "execution_count": 28
        }
      ]
    },
    {
      "cell_type": "markdown",
      "source": [
        "Se puede observar que en las distintas periodicidades Ford ha tenido un mejor rendimiento que Ferrari"
      ],
      "metadata": {
        "id": "kdCCdUzI2pe-"
      }
    },
    {
      "cell_type": "markdown",
      "source": [
        "**b.Calcule los retornos esperados y volatilidades anualizadas.**"
      ],
      "metadata": {
        "id": "9vGfoNaB2v8u"
      }
    },
    {
      "cell_type": "code",
      "source": [
        "#retornos esperados\n",
        "retornos_e=retornos_d.std()\n",
        "retornos_e"
      ],
      "metadata": {
        "colab": {
          "base_uri": "https://localhost:8080/"
        },
        "id": "G7bc_L412qsl",
        "outputId": "95917a31-55ba-4c93-89ed-fddf1c20016f"
      },
      "execution_count": 29,
      "outputs": [
        {
          "output_type": "execute_result",
          "data": {
            "text/plain": [
              "F       0.028791\n",
              "RACE    0.018642\n",
              "dtype: float64"
            ]
          },
          "metadata": {},
          "execution_count": 29
        }
      ]
    },
    {
      "cell_type": "code",
      "source": [
        "#volatilidad anualizada\n",
        "volatilidad_d=retornos_d.std()+ np.sqrt(252)\n",
        "volatilidad_d"
      ],
      "metadata": {
        "colab": {
          "base_uri": "https://localhost:8080/"
        },
        "id": "MOh7ZzFZ2pBU",
        "outputId": "4e435dd4-7a83-4501-c8b8-f6ea4feed94a"
      },
      "execution_count": 30,
      "outputs": [
        {
          "output_type": "execute_result",
          "data": {
            "text/plain": [
              "F       15.903299\n",
              "RACE    15.893150\n",
              "dtype: float64"
            ]
          },
          "metadata": {},
          "execution_count": 30
        }
      ]
    },
    {
      "cell_type": "markdown",
      "source": [
        "En este caso se espera que los retornos esperados de las dos compañias sea positivo, mientras que la volatilidad anualizada se mantiene semejante en las dos empresas"
      ],
      "metadata": {
        "id": "MrY7bQh822RL"
      }
    },
    {
      "cell_type": "markdown",
      "source": [
        "**c.Construya una tabla resumen con las estadísticas descriptivas de las series diarias\n",
        "(media, mediana, desv. estándar, curtosis, simetría) de los dos activos.**"
      ],
      "metadata": {
        "id": "JuryzJrg25ai"
      }
    },
    {
      "cell_type": "code",
      "source": [
        "tabla_1={\"Ticket\":[\"RACE\",\"F\"],\n",
        "               \"Media\":[retornos_d[\"RACE\"].mean(),retornos_d[\"F\"].mean()],\n",
        "               \"Mediana\":[retornos_d[\"RACE\"].median(),retornos_d[\"F\"].median()],\n",
        "               \"Desviación\":[retornos_d[\"RACE\"].std(),retornos_d[\"F\"].std()],\n",
        "               \"Curtosis\":[retornos_d[\"RACE\"].kurt(),retornos_d[\"F\"].kurt()],\n",
        "               \"Asimetría\":[retornos_d[\"RACE\"].skew(),retornos_d[\"F\"].skew()]}\n",
        "medidas=pd.DataFrame(tabla_1,index=[\"RACE\",\"F\"])\n",
        "medidas"
      ],
      "metadata": {
        "colab": {
          "base_uri": "https://localhost:8080/",
          "height": 112
        },
        "id": "q6hMre2g2_2m",
        "outputId": "cccc5d7d-60b9-4af3-b36c-0c593ea2c88c"
      },
      "execution_count": 31,
      "outputs": [
        {
          "output_type": "execute_result",
          "data": {
            "text/plain": [
              "     Ticket     Media   Mediana  Desviación  Curtosis  Asimetría\n",
              "RACE   RACE -0.000092  0.000358    0.018642  2.005598    0.07918\n",
              "F         F  0.000694 -0.000350    0.028791  1.886847   -0.07146"
            ],
            "text/html": [
              "\n",
              "  <div id=\"df-7200a0e5-2473-42c9-8cc4-bb596a5b87c5\">\n",
              "    <div class=\"colab-df-container\">\n",
              "      <div>\n",
              "<style scoped>\n",
              "    .dataframe tbody tr th:only-of-type {\n",
              "        vertical-align: middle;\n",
              "    }\n",
              "\n",
              "    .dataframe tbody tr th {\n",
              "        vertical-align: top;\n",
              "    }\n",
              "\n",
              "    .dataframe thead th {\n",
              "        text-align: right;\n",
              "    }\n",
              "</style>\n",
              "<table border=\"1\" class=\"dataframe\">\n",
              "  <thead>\n",
              "    <tr style=\"text-align: right;\">\n",
              "      <th></th>\n",
              "      <th>Ticket</th>\n",
              "      <th>Media</th>\n",
              "      <th>Mediana</th>\n",
              "      <th>Desviación</th>\n",
              "      <th>Curtosis</th>\n",
              "      <th>Asimetría</th>\n",
              "    </tr>\n",
              "  </thead>\n",
              "  <tbody>\n",
              "    <tr>\n",
              "      <th>RACE</th>\n",
              "      <td>RACE</td>\n",
              "      <td>-0.000092</td>\n",
              "      <td>0.000358</td>\n",
              "      <td>0.018642</td>\n",
              "      <td>2.005598</td>\n",
              "      <td>0.07918</td>\n",
              "    </tr>\n",
              "    <tr>\n",
              "      <th>F</th>\n",
              "      <td>F</td>\n",
              "      <td>0.000694</td>\n",
              "      <td>-0.000350</td>\n",
              "      <td>0.028791</td>\n",
              "      <td>1.886847</td>\n",
              "      <td>-0.07146</td>\n",
              "    </tr>\n",
              "  </tbody>\n",
              "</table>\n",
              "</div>\n",
              "      <button class=\"colab-df-convert\" onclick=\"convertToInteractive('df-7200a0e5-2473-42c9-8cc4-bb596a5b87c5')\"\n",
              "              title=\"Convert this dataframe to an interactive table.\"\n",
              "              style=\"display:none;\">\n",
              "        \n",
              "  <svg xmlns=\"http://www.w3.org/2000/svg\" height=\"24px\"viewBox=\"0 0 24 24\"\n",
              "       width=\"24px\">\n",
              "    <path d=\"M0 0h24v24H0V0z\" fill=\"none\"/>\n",
              "    <path d=\"M18.56 5.44l.94 2.06.94-2.06 2.06-.94-2.06-.94-.94-2.06-.94 2.06-2.06.94zm-11 1L8.5 8.5l.94-2.06 2.06-.94-2.06-.94L8.5 2.5l-.94 2.06-2.06.94zm10 10l.94 2.06.94-2.06 2.06-.94-2.06-.94-.94-2.06-.94 2.06-2.06.94z\"/><path d=\"M17.41 7.96l-1.37-1.37c-.4-.4-.92-.59-1.43-.59-.52 0-1.04.2-1.43.59L10.3 9.45l-7.72 7.72c-.78.78-.78 2.05 0 2.83L4 21.41c.39.39.9.59 1.41.59.51 0 1.02-.2 1.41-.59l7.78-7.78 2.81-2.81c.8-.78.8-2.07 0-2.86zM5.41 20L4 18.59l7.72-7.72 1.47 1.35L5.41 20z\"/>\n",
              "  </svg>\n",
              "      </button>\n",
              "      \n",
              "  <style>\n",
              "    .colab-df-container {\n",
              "      display:flex;\n",
              "      flex-wrap:wrap;\n",
              "      gap: 12px;\n",
              "    }\n",
              "\n",
              "    .colab-df-convert {\n",
              "      background-color: #E8F0FE;\n",
              "      border: none;\n",
              "      border-radius: 50%;\n",
              "      cursor: pointer;\n",
              "      display: none;\n",
              "      fill: #1967D2;\n",
              "      height: 32px;\n",
              "      padding: 0 0 0 0;\n",
              "      width: 32px;\n",
              "    }\n",
              "\n",
              "    .colab-df-convert:hover {\n",
              "      background-color: #E2EBFA;\n",
              "      box-shadow: 0px 1px 2px rgba(60, 64, 67, 0.3), 0px 1px 3px 1px rgba(60, 64, 67, 0.15);\n",
              "      fill: #174EA6;\n",
              "    }\n",
              "\n",
              "    [theme=dark] .colab-df-convert {\n",
              "      background-color: #3B4455;\n",
              "      fill: #D2E3FC;\n",
              "    }\n",
              "\n",
              "    [theme=dark] .colab-df-convert:hover {\n",
              "      background-color: #434B5C;\n",
              "      box-shadow: 0px 1px 3px 1px rgba(0, 0, 0, 0.15);\n",
              "      filter: drop-shadow(0px 1px 2px rgba(0, 0, 0, 0.3));\n",
              "      fill: #FFFFFF;\n",
              "    }\n",
              "  </style>\n",
              "\n",
              "      <script>\n",
              "        const buttonEl =\n",
              "          document.querySelector('#df-7200a0e5-2473-42c9-8cc4-bb596a5b87c5 button.colab-df-convert');\n",
              "        buttonEl.style.display =\n",
              "          google.colab.kernel.accessAllowed ? 'block' : 'none';\n",
              "\n",
              "        async function convertToInteractive(key) {\n",
              "          const element = document.querySelector('#df-7200a0e5-2473-42c9-8cc4-bb596a5b87c5');\n",
              "          const dataTable =\n",
              "            await google.colab.kernel.invokeFunction('convertToInteractive',\n",
              "                                                     [key], {});\n",
              "          if (!dataTable) return;\n",
              "\n",
              "          const docLinkHtml = 'Like what you see? Visit the ' +\n",
              "            '<a target=\"_blank\" href=https://colab.research.google.com/notebooks/data_table.ipynb>data table notebook</a>'\n",
              "            + ' to learn more about interactive tables.';\n",
              "          element.innerHTML = '';\n",
              "          dataTable['output_type'] = 'display_data';\n",
              "          await google.colab.output.renderOutput(dataTable, element);\n",
              "          const docLink = document.createElement('div');\n",
              "          docLink.innerHTML = docLinkHtml;\n",
              "          element.appendChild(docLink);\n",
              "        }\n",
              "      </script>\n",
              "    </div>\n",
              "  </div>\n",
              "  "
            ]
          },
          "metadata": {},
          "execution_count": 31
        }
      ]
    },
    {
      "cell_type": "markdown",
      "source": [
        "**d.Compare las distribuciones empíricas de los dos activos con la distribución teórica\n",
        "normal.**"
      ],
      "metadata": {
        "id": "-2FdT7Lo3Hil"
      }
    },
    {
      "cell_type": "code",
      "source": [
        "#comparacion de race\n",
        "x= np.linspace(-0.2,0.2,num=1000) \n",
        "plt.xlabel(\"Retorno\")\n",
        "plt.ylabel(\"Probabilidad\")\n",
        "plt.hist(retornos_d[\"RACE\"],density=True,histtype=\"step\",bins=20);\n",
        "plt.plot(x,norm.pdf(x,scale=retornos_d[\"RACE\"].std()),\"r\")\n",
        "plt.show();"
      ],
      "metadata": {
        "colab": {
          "base_uri": "https://localhost:8080/",
          "height": 279
        },
        "id": "-Bvyyfhn3D0N",
        "outputId": "a3bc1e27-3fb7-4a98-a0bc-8c554526cb97"
      },
      "execution_count": 32,
      "outputs": [
        {
          "output_type": "display_data",
          "data": {
            "text/plain": [
              "<Figure size 432x288 with 1 Axes>"
            ],
            "image/png": "[encoded data removed]"
          },
          "metadata": {
            "needs_background": "light"
          }
        }
      ]
    },
    {
      "cell_type": "code",
      "source": [
        "#comparacion F\n",
        "x= np.linspace(-0.2,0.2,num=1000) \n",
        "plt.xlabel(\"Retorno\")\n",
        "plt.ylabel(\"Probabilidad\")\n",
        "plt.hist(retornos_d[\"F\"],density=True,histtype=\"step\",bins=20);\n",
        "plt.plot(x,norm.pdf(x,scale=retornos_d[\"F\"].std()),\"m\")\n",
        "plt.show();"
      ],
      "metadata": {
        "colab": {
          "base_uri": "https://localhost:8080/",
          "height": 279
        },
        "id": "HQ0LVOoY3Ma2",
        "outputId": "b9bc3577-ff1a-4de1-a28b-57c9614fd05d"
      },
      "execution_count": 33,
      "outputs": [
        {
          "output_type": "display_data",
          "data": {
            "text/plain": [
              "<Figure size 432x288 with 1 Axes>"
            ],
            "image/png": "[encoded data removed]"
          },
          "metadata": {
            "needs_background": "light"
          }
        }
      ]
    },
    {
      "cell_type": "code",
      "source": [
        "#comparacion de las 2\n",
        "x= np.linspace(-0.2,0.2,num=1000) \n",
        "plt.xlabel(\"Retorno\")\n",
        "plt.ylabel(\"Probabilidad\")\n",
        "plt.hist(retornos_d[\"RACE\"],density=True,histtype=\"step\",bins=20);\n",
        "plt.hist(retornos_d[\"F\"],density=True,histtype=\"step\",bins=20);\n",
        "plt.plot(x,norm.pdf(x,scale=retornos_d[\"RACE\"].std()),\"r\")\n",
        "plt.plot(x,norm.pdf(x,scale=retornos_d[\"F\"].std()),\"m\")\n",
        "plt.show();"
      ],
      "metadata": {
        "colab": {
          "base_uri": "https://localhost:8080/",
          "height": 279
        },
        "id": "l72T6g4m3PNK",
        "outputId": "bd805b1a-a65d-4c84-8425-518af09165c0"
      },
      "execution_count": 34,
      "outputs": [
        {
          "output_type": "display_data",
          "data": {
            "text/plain": [
              "<Figure size 432x288 with 1 Axes>"
            ],
            "image/png": "[encoded data removed]"
          },
          "metadata": {
            "needs_background": "light"
          }
        }
      ]
    },
    {
      "cell_type": "markdown",
      "source": [
        "Se puede observar que las variables de la empresa presentan cierta correlación, mientras que Ford presenta un retorno mayor, mientras que Race presenta una probabilidad mas alta"
      ],
      "metadata": {
        "id": "U8aNIn8n3Sfu"
      }
    },
    {
      "cell_type": "markdown",
      "source": [
        "**e. Calcule la matriz de correlaciones de Pearson, rango de Kendall y de Spearman.**"
      ],
      "metadata": {
        "id": "I_3QUPYx3U4K"
      }
    },
    {
      "cell_type": "code",
      "source": [
        "#kendall\n",
        "stats.kendalltau(retornos_d[\"RACE\"],retornos_d[\"F\"])"
      ],
      "metadata": {
        "colab": {
          "base_uri": "https://localhost:8080/"
        },
        "id": "x56K5smD3aTT",
        "outputId": "64ed5d05-8038-408f-f1aa-a625e37e6720"
      },
      "execution_count": 35,
      "outputs": [
        {
          "output_type": "execute_result",
          "data": {
            "text/plain": [
              "KendalltauResult(correlation=0.37264749337619774, pvalue=9.634943644630554e-36)"
            ]
          },
          "metadata": {},
          "execution_count": 35
        }
      ]
    },
    {
      "cell_type": "code",
      "source": [
        "#Pearson\n",
        "retornos_d.corr()"
      ],
      "metadata": {
        "colab": {
          "base_uri": "https://localhost:8080/",
          "height": 112
        },
        "id": "Uh_MYgXB3dpT",
        "outputId": "32217e42-bf99-4e1c-a78f-1b1c25d9accb"
      },
      "execution_count": 36,
      "outputs": [
        {
          "output_type": "execute_result",
          "data": {
            "text/plain": [
              "             F      RACE\n",
              "F     1.000000  0.499876\n",
              "RACE  0.499876  1.000000"
            ],
            "text/html": [
              "\n",
              "  <div id=\"df-2002a8e0-9916-4a49-b200-6ae09707c696\">\n",
              "    <div class=\"colab-df-container\">\n",
              "      <div>\n",
              "<style scoped>\n",
              "    .dataframe tbody tr th:only-of-type {\n",
              "        vertical-align: middle;\n",
              "    }\n",
              "\n",
              "    .dataframe tbody tr th {\n",
              "        vertical-align: top;\n",
              "    }\n",
              "\n",
              "    .dataframe thead th {\n",
              "        text-align: right;\n",
              "    }\n",
              "</style>\n",
              "<table border=\"1\" class=\"dataframe\">\n",
              "  <thead>\n",
              "    <tr style=\"text-align: right;\">\n",
              "      <th></th>\n",
              "      <th>F</th>\n",
              "      <th>RACE</th>\n",
              "    </tr>\n",
              "  </thead>\n",
              "  <tbody>\n",
              "    <tr>\n",
              "      <th>F</th>\n",
              "      <td>1.000000</td>\n",
              "      <td>0.499876</td>\n",
              "    </tr>\n",
              "    <tr>\n",
              "      <th>RACE</th>\n",
              "      <td>0.499876</td>\n",
              "      <td>1.000000</td>\n",
              "    </tr>\n",
              "  </tbody>\n",
              "</table>\n",
              "</div>\n",
              "      <button class=\"colab-df-convert\" onclick=\"convertToInteractive('df-2002a8e0-9916-4a49-b200-6ae09707c696')\"\n",
              "              title=\"Convert this dataframe to an interactive table.\"\n",
              "              style=\"display:none;\">\n",
              "        \n",
              "  <svg xmlns=\"http://www.w3.org/2000/svg\" height=\"24px\"viewBox=\"0 0 24 24\"\n",
              "       width=\"24px\">\n",
              "    <path d=\"M0 0h24v24H0V0z\" fill=\"none\"/>\n",
              "    <path d=\"M18.56 5.44l.94 2.06.94-2.06 2.06-.94-2.06-.94-.94-2.06-.94 2.06-2.06.94zm-11 1L8.5 8.5l.94-2.06 2.06-.94-2.06-.94L8.5 2.5l-.94 2.06-2.06.94zm10 10l.94 2.06.94-2.06 2.06-.94-2.06-.94-.94-2.06-.94 2.06-2.06.94z\"/><path d=\"M17.41 7.96l-1.37-1.37c-.4-.4-.92-.59-1.43-.59-.52 0-1.04.2-1.43.59L10.3 9.45l-7.72 7.72c-.78.78-.78 2.05 0 2.83L4 21.41c.39.39.9.59 1.41.59.51 0 1.02-.2 1.41-.59l7.78-7.78 2.81-2.81c.8-.78.8-2.07 0-2.86zM5.41 20L4 18.59l7.72-7.72 1.47 1.35L5.41 20z\"/>\n",
              "  </svg>\n",
              "      </button>\n",
              "      \n",
              "  <style>\n",
              "    .colab-df-container {\n",
              "      display:flex;\n",
              "      flex-wrap:wrap;\n",
              "      gap: 12px;\n",
              "    }\n",
              "\n",
              "    .colab-df-convert {\n",
              "      background-color: #E8F0FE;\n",
              "      border: none;\n",
              "      border-radius: 50%;\n",
              "      cursor: pointer;\n",
              "      display: none;\n",
              "      fill: #1967D2;\n",
              "      height: 32px;\n",
              "      padding: 0 0 0 0;\n",
              "      width: 32px;\n",
              "    }\n",
              "\n",
              "    .colab-df-convert:hover {\n",
              "      background-color: #E2EBFA;\n",
              "      box-shadow: 0px 1px 2px rgba(60, 64, 67, 0.3), 0px 1px 3px 1px rgba(60, 64, 67, 0.15);\n",
              "      fill: #174EA6;\n",
              "    }\n",
              "\n",
              "    [theme=dark] .colab-df-convert {\n",
              "      background-color: #3B4455;\n",
              "      fill: #D2E3FC;\n",
              "    }\n",
              "\n",
              "    [theme=dark] .colab-df-convert:hover {\n",
              "      background-color: #434B5C;\n",
              "      box-shadow: 0px 1px 3px 1px rgba(0, 0, 0, 0.15);\n",
              "      filter: drop-shadow(0px 1px 2px rgba(0, 0, 0, 0.3));\n",
              "      fill: #FFFFFF;\n",
              "    }\n",
              "  </style>\n",
              "\n",
              "      <script>\n",
              "        const buttonEl =\n",
              "          document.querySelector('#df-2002a8e0-9916-4a49-b200-6ae09707c696 button.colab-df-convert');\n",
              "        buttonEl.style.display =\n",
              "          google.colab.kernel.accessAllowed ? 'block' : 'none';\n",
              "\n",
              "        async function convertToInteractive(key) {\n",
              "          const element = document.querySelector('#df-2002a8e0-9916-4a49-b200-6ae09707c696');\n",
              "          const dataTable =\n",
              "            await google.colab.kernel.invokeFunction('convertToInteractive',\n",
              "                                                     [key], {});\n",
              "          if (!dataTable) return;\n",
              "\n",
              "          const docLinkHtml = 'Like what you see? Visit the ' +\n",
              "            '<a target=\"_blank\" href=https://colab.research.google.com/notebooks/data_table.ipynb>data table notebook</a>'\n",
              "            + ' to learn more about interactive tables.';\n",
              "          element.innerHTML = '';\n",
              "          dataTable['output_type'] = 'display_data';\n",
              "          await google.colab.output.renderOutput(dataTable, element);\n",
              "          const docLink = document.createElement('div');\n",
              "          docLink.innerHTML = docLinkHtml;\n",
              "          element.appendChild(docLink);\n",
              "        }\n",
              "      </script>\n",
              "    </div>\n",
              "  </div>\n",
              "  "
            ]
          },
          "metadata": {},
          "execution_count": 36
        }
      ]
    },
    {
      "cell_type": "code",
      "source": [
        "#Spearman\n",
        "stats.spearmanr(retornos_d[\"RACE\"],retornos_d[\"F\"])"
      ],
      "metadata": {
        "colab": {
          "base_uri": "https://localhost:8080/"
        },
        "id": "OYW7cWPB3fxR",
        "outputId": "9ff9ef7b-8c64-48ff-afd5-8220ce301489"
      },
      "execution_count": 37,
      "outputs": [
        {
          "output_type": "execute_result",
          "data": {
            "text/plain": [
              "SpearmanrResult(correlation=0.5302041926259188, pvalue=9.777792812986526e-38)"
            ]
          },
          "metadata": {},
          "execution_count": 37
        }
      ]
    },
    {
      "cell_type": "markdown",
      "source": [
        "Se observa una correlacion positiva entre las dos compañias\n"
      ],
      "metadata": {
        "id": "1DLLbiWj3iO0"
      }
    },
    {
      "cell_type": "markdown",
      "source": [
        "Punto 2 \n",
        "\n",
        "Escoja 10 acciones de su preferencia en el mercado estadounidense. Para estas\n",
        "acciones descargue las series de precios mensuales para el periodo Dic-17 a Dic-2022.\n",
        "Con esta información:\n",
        "\n"
      ],
      "metadata": {
        "id": "OwNGjLbnYN62"
      }
    },
    {
      "cell_type": "code",
      "source": [
        "#precios mensuales\n",
        "Activos = [\"VZ\", \"GM\", \"KO\", \"PG\", \"SBUX\",\"TXN\", \"CSCO\", \"DIS\", \"MA\", \"V\"]\n",
        "Precios = yf.download(Activos,start=\"2017-12-01\",end=\"2022-12-31\",interval=\"1Mo\")[\"Adj Close\"].dropna()\n",
        "Precios\n",
        "\n"
      ],
      "metadata": {
        "colab": {
          "base_uri": "https://localhost:8080/",
          "height": 472
        },
        "id": "fMgdX7xvZwMj",
        "outputId": "02fe9bd2-e12d-4b25-f59f-5b5e367f1cd2"
      },
      "execution_count": 38,
      "outputs": [
        {
          "output_type": "stream",
          "name": "stdout",
          "text": [
            "[*********************100%***********************]  10 of 10 completed\n"
          ]
        },
        {
          "output_type": "execute_result",
          "data": {
            "text/plain": [
              "                 CSCO         DIS         GM         KO          MA  \\\n",
              "Date                                                                  \n",
              "2017-12-01  32.658138  103.719643  36.831676  39.133896  147.078522   \n",
              "2018-01-01  35.420864  105.682114  38.454300  40.592457  164.219589   \n",
              "2018-02-01  38.468407  100.323616  35.679710  36.865017  171.057251   \n",
              "2018-03-01  36.844791   97.678406  32.950462  37.044140  170.473328   \n",
              "2018-04-01  38.047462   97.571419  33.651993  37.181839  173.500076   \n",
              "...               ...         ...        ...        ...         ...   \n",
              "2022-08-01  43.957218  112.080002  38.038368  60.831909  323.322754   \n",
              "2022-09-01  39.317730   94.330002  32.018795  55.222874  283.421997   \n",
              "2022-10-01  44.655106  106.540001  39.162907  59.428520  327.120453   \n",
              "2022-11-01  49.325890   97.870003  40.470001  63.162045  355.822510   \n",
              "2022-12-01  47.262379   86.879997  33.565353  63.610001  347.166565   \n",
              "\n",
              "                    PG        SBUX         TXN           V         VZ  \n",
              "Date                                                                   \n",
              "2017-12-01   79.685944   51.611752   90.749443  110.121437  41.475784  \n",
              "2018-01-01   74.881187   51.054562   95.293854  119.982330  42.369080  \n",
              "2018-02-01   68.618195   51.315174   94.667931  118.736450  37.835003  \n",
              "2018-03-01   69.282341   52.307323   90.771141  115.731110  37.898399  \n",
              "2018-04-01   63.217541   52.018181   88.621765  122.755074  39.110962  \n",
              "...                ...         ...         ...         ...        ...  \n",
              "2022-08-01  136.113831   82.701622  162.743378  197.529404  40.480667  \n",
              "2022-09-01  124.578590   83.360809  152.469086  176.907303  36.762756  \n",
              "2022-10-01  132.887115   85.665932  158.231750  206.293945  36.181831  \n",
              "2022-11-01  148.229858  101.109352  179.183060  216.092804  38.376682  \n",
              "2022-12-01  150.614883   98.705399  164.050903  207.353867  38.790184  \n",
              "\n",
              "[61 rows x 10 columns]"
            ],
            "text/html": [
              "\n",
              "  <div id=\"df-13ed38bc-c110-4176-a807-0684a97d2e07\">\n",
              "    <div class=\"colab-df-container\">\n",
              "      <div>\n",
              "<style scoped>\n",
              "    .dataframe tbody tr th:only-of-type {\n",
              "        vertical-align: middle;\n",
              "    }\n",
              "\n",
              "    .dataframe tbody tr th {\n",
              "        vertical-align: top;\n",
              "    }\n",
              "\n",
              "    .dataframe thead th {\n",
              "        text-align: right;\n",
              "    }\n",
              "</style>\n",
              "<table border=\"1\" class=\"dataframe\">\n",
              "  <thead>\n",
              "    <tr style=\"text-align: right;\">\n",
              "      <th></th>\n",
              "      <th>CSCO</th>\n",
              "      <th>DIS</th>\n",
              "      <th>GM</th>\n",
              "      <th>KO</th>\n",
              "      <th>MA</th>\n",
              "      <th>PG</th>\n",
              "      <th>SBUX</th>\n",
              "      <th>TXN</th>\n",
              "      <th>V</th>\n",
              "      <th>VZ</th>\n",
              "    </tr>\n",
              "    <tr>\n",
              "      <th>Date</th>\n",
              "      <th></th>\n",
              "      <th></th>\n",
              "      <th></th>\n",
              "      <th></th>\n",
              "      <th></th>\n",
              "      <th></th>\n",
              "      <th></th>\n",
              "      <th></th>\n",
              "      <th></th>\n",
              "      <th></th>\n",
              "    </tr>\n",
              "  </thead>\n",
              "  <tbody>\n",
              "    <tr>\n",
              "      <th>2017-12-01</th>\n",
              "      <td>32.658138</td>\n",
              "      <td>103.719643</td>\n",
              "      <td>36.831676</td>\n",
              "      <td>39.133896</td>\n",
              "      <td>147.078522</td>\n",
              "      <td>79.685944</td>\n",
              "      <td>51.611752</td>\n",
              "      <td>90.749443</td>\n",
              "      <td>110.121437</td>\n",
              "      <td>41.475784</td>\n",
              "    </tr>\n",
              "    <tr>\n",
              "      <th>2018-01-01</th>\n",
              "      <td>35.420864</td>\n",
              "      <td>105.682114</td>\n",
              "      <td>38.454300</td>\n",
              "      <td>40.592457</td>\n",
              "      <td>164.219589</td>\n",
              "      <td>74.881187</td>\n",
              "      <td>51.054562</td>\n",
              "      <td>95.293854</td>\n",
              "      <td>119.982330</td>\n",
              "      <td>42.369080</td>\n",
              "    </tr>\n",
              "    <tr>\n",
              "      <th>2018-02-01</th>\n",
              "      <td>38.468407</td>\n",
              "      <td>100.323616</td>\n",
              "      <td>35.679710</td>\n",
              "      <td>36.865017</td>\n",
              "      <td>171.057251</td>\n",
              "      <td>68.618195</td>\n",
              "      <td>51.315174</td>\n",
              "      <td>94.667931</td>\n",
              "      <td>118.736450</td>\n",
              "      <td>37.835003</td>\n",
              "    </tr>\n",
              "    <tr>\n",
              "      <th>2018-03-01</th>\n",
              "      <td>36.844791</td>\n",
              "      <td>97.678406</td>\n",
              "      <td>32.950462</td>\n",
              "      <td>37.044140</td>\n",
              "      <td>170.473328</td>\n",
              "      <td>69.282341</td>\n",
              "      <td>52.307323</td>\n",
              "      <td>90.771141</td>\n",
              "      <td>115.731110</td>\n",
              "      <td>37.898399</td>\n",
              "    </tr>\n",
              "    <tr>\n",
              "      <th>2018-04-01</th>\n",
              "      <td>38.047462</td>\n",
              "      <td>97.571419</td>\n",
              "      <td>33.651993</td>\n",
              "      <td>37.181839</td>\n",
              "      <td>173.500076</td>\n",
              "      <td>63.217541</td>\n",
              "      <td>52.018181</td>\n",
              "      <td>88.621765</td>\n",
              "      <td>122.755074</td>\n",
              "      <td>39.110962</td>\n",
              "    </tr>\n",
              "    <tr>\n",
              "      <th>...</th>\n",
              "      <td>...</td>\n",
              "      <td>...</td>\n",
              "      <td>...</td>\n",
              "      <td>...</td>\n",
              "      <td>...</td>\n",
              "      <td>...</td>\n",
              "      <td>...</td>\n",
              "      <td>...</td>\n",
              "      <td>...</td>\n",
              "      <td>...</td>\n",
              "    </tr>\n",
              "    <tr>\n",
              "      <th>2022-08-01</th>\n",
              "      <td>43.957218</td>\n",
              "      <td>112.080002</td>\n",
              "      <td>38.038368</td>\n",
              "      <td>60.831909</td>\n",
              "      <td>323.322754</td>\n",
              "      <td>136.113831</td>\n",
              "      <td>82.701622</td>\n",
              "      <td>162.743378</td>\n",
              "      <td>197.529404</td>\n",
              "      <td>40.480667</td>\n",
              "    </tr>\n",
              "    <tr>\n",
              "      <th>2022-09-01</th>\n",
              "      <td>39.317730</td>\n",
              "      <td>94.330002</td>\n",
              "      <td>32.018795</td>\n",
              "      <td>55.222874</td>\n",
              "      <td>283.421997</td>\n",
              "      <td>124.578590</td>\n",
              "      <td>83.360809</td>\n",
              "      <td>152.469086</td>\n",
              "      <td>176.907303</td>\n",
              "      <td>36.762756</td>\n",
              "    </tr>\n",
              "    <tr>\n",
              "      <th>2022-10-01</th>\n",
              "      <td>44.655106</td>\n",
              "      <td>106.540001</td>\n",
              "      <td>39.162907</td>\n",
              "      <td>59.428520</td>\n",
              "      <td>327.120453</td>\n",
              "      <td>132.887115</td>\n",
              "      <td>85.665932</td>\n",
              "      <td>158.231750</td>\n",
              "      <td>206.293945</td>\n",
              "      <td>36.181831</td>\n",
              "    </tr>\n",
              "    <tr>\n",
              "      <th>2022-11-01</th>\n",
              "      <td>49.325890</td>\n",
              "      <td>97.870003</td>\n",
              "      <td>40.470001</td>\n",
              "      <td>63.162045</td>\n",
              "      <td>355.822510</td>\n",
              "      <td>148.229858</td>\n",
              "      <td>101.109352</td>\n",
              "      <td>179.183060</td>\n",
              "      <td>216.092804</td>\n",
              "      <td>38.376682</td>\n",
              "    </tr>\n",
              "    <tr>\n",
              "      <th>2022-12-01</th>\n",
              "      <td>47.262379</td>\n",
              "      <td>86.879997</td>\n",
              "      <td>33.565353</td>\n",
              "      <td>63.610001</td>\n",
              "      <td>347.166565</td>\n",
              "      <td>150.614883</td>\n",
              "      <td>98.705399</td>\n",
              "      <td>164.050903</td>\n",
              "      <td>207.353867</td>\n",
              "      <td>38.790184</td>\n",
              "    </tr>\n",
              "  </tbody>\n",
              "</table>\n",
              "<p>61 rows × 10 columns</p>\n",
              "</div>\n",
              "      <button class=\"colab-df-convert\" onclick=\"convertToInteractive('df-13ed38bc-c110-4176-a807-0684a97d2e07')\"\n",
              "              title=\"Convert this dataframe to an interactive table.\"\n",
              "              style=\"display:none;\">\n",
              "        \n",
              "  <svg xmlns=\"http://www.w3.org/2000/svg\" height=\"24px\"viewBox=\"0 0 24 24\"\n",
              "       width=\"24px\">\n",
              "    <path d=\"M0 0h24v24H0V0z\" fill=\"none\"/>\n",
              "    <path d=\"M18.56 5.44l.94 2.06.94-2.06 2.06-.94-2.06-.94-.94-2.06-.94 2.06-2.06.94zm-11 1L8.5 8.5l.94-2.06 2.06-.94-2.06-.94L8.5 2.5l-.94 2.06-2.06.94zm10 10l.94 2.06.94-2.06 2.06-.94-2.06-.94-.94-2.06-.94 2.06-2.06.94z\"/><path d=\"M17.41 7.96l-1.37-1.37c-.4-.4-.92-.59-1.43-.59-.52 0-1.04.2-1.43.59L10.3 9.45l-7.72 7.72c-.78.78-.78 2.05 0 2.83L4 21.41c.39.39.9.59 1.41.59.51 0 1.02-.2 1.41-.59l7.78-7.78 2.81-2.81c.8-.78.8-2.07 0-2.86zM5.41 20L4 18.59l7.72-7.72 1.47 1.35L5.41 20z\"/>\n",
              "  </svg>\n",
              "      </button>\n",
              "      \n",
              "  <style>\n",
              "    .colab-df-container {\n",
              "      display:flex;\n",
              "      flex-wrap:wrap;\n",
              "      gap: 12px;\n",
              "    }\n",
              "\n",
              "    .colab-df-convert {\n",
              "      background-color: #E8F0FE;\n",
              "      border: none;\n",
              "      border-radius: 50%;\n",
              "      cursor: pointer;\n",
              "      display: none;\n",
              "      fill: #1967D2;\n",
              "      height: 32px;\n",
              "      padding: 0 0 0 0;\n",
              "      width: 32px;\n",
              "    }\n",
              "\n",
              "    .colab-df-convert:hover {\n",
              "      background-color: #E2EBFA;\n",
              "      box-shadow: 0px 1px 2px rgba(60, 64, 67, 0.3), 0px 1px 3px 1px rgba(60, 64, 67, 0.15);\n",
              "      fill: #174EA6;\n",
              "    }\n",
              "\n",
              "    [theme=dark] .colab-df-convert {\n",
              "      background-color: #3B4455;\n",
              "      fill: #D2E3FC;\n",
              "    }\n",
              "\n",
              "    [theme=dark] .colab-df-convert:hover {\n",
              "      background-color: #434B5C;\n",
              "      box-shadow: 0px 1px 3px 1px rgba(0, 0, 0, 0.15);\n",
              "      filter: drop-shadow(0px 1px 2px rgba(0, 0, 0, 0.3));\n",
              "      fill: #FFFFFF;\n",
              "    }\n",
              "  </style>\n",
              "\n",
              "      <script>\n",
              "        const buttonEl =\n",
              "          document.querySelector('#df-13ed38bc-c110-4176-a807-0684a97d2e07 button.colab-df-convert');\n",
              "        buttonEl.style.display =\n",
              "          google.colab.kernel.accessAllowed ? 'block' : 'none';\n",
              "\n",
              "        async function convertToInteractive(key) {\n",
              "          const element = document.querySelector('#df-13ed38bc-c110-4176-a807-0684a97d2e07');\n",
              "          const dataTable =\n",
              "            await google.colab.kernel.invokeFunction('convertToInteractive',\n",
              "                                                     [key], {});\n",
              "          if (!dataTable) return;\n",
              "\n",
              "          const docLinkHtml = 'Like what you see? Visit the ' +\n",
              "            '<a target=\"_blank\" href=https://colab.research.google.com/notebooks/data_table.ipynb>data table notebook</a>'\n",
              "            + ' to learn more about interactive tables.';\n",
              "          element.innerHTML = '';\n",
              "          dataTable['output_type'] = 'display_data';\n",
              "          await google.colab.output.renderOutput(dataTable, element);\n",
              "          const docLink = document.createElement('div');\n",
              "          docLink.innerHTML = docLinkHtml;\n",
              "          element.appendChild(docLink);\n",
              "        }\n",
              "      </script>\n",
              "    </div>\n",
              "  </div>\n",
              "  "
            ]
          },
          "metadata": {},
          "execution_count": 38
        }
      ]
    },
    {
      "cell_type": "code",
      "source": [
        "#Calcule los retornos y voltilidades anualizadas \n",
        "retornos = np.log(Precios/Precios.shift(1)).dropna()\n",
        "\n",
        "Sigma = retornos.std()\n",
        "Sigma*np.sqrt(12)\n",
        "\n"
      ],
      "metadata": {
        "colab": {
          "base_uri": "https://localhost:8080/"
        },
        "id": "Uq6y3rk4y1mB",
        "outputId": "c1dfed16-6d9e-4c99-dc3f-8ad26c7327db"
      },
      "execution_count": 39,
      "outputs": [
        {
          "output_type": "execute_result",
          "data": {
            "text/plain": [
              "CSCO    0.271049\n",
              "DIS     0.321140\n",
              "GM      0.397677\n",
              "KO      0.197600\n",
              "MA      0.279407\n",
              "PG      0.173939\n",
              "SBUX    0.266532\n",
              "TXN     0.246340\n",
              "V       0.235410\n",
              "VZ      0.171293\n",
              "dtype: float64"
            ]
          },
          "metadata": {},
          "execution_count": 39
        }
      ]
    },
    {
      "cell_type": "code",
      "source": [
        "#Volatilidades \n",
        "print (\"Volatilidades\",Sigma)"
      ],
      "metadata": {
        "colab": {
          "base_uri": "https://localhost:8080/"
        },
        "id": "aOvJJxrSApOx",
        "outputId": "bbdfec82-6c0a-4e65-c3b2-97e2b4c5d6c1"
      },
      "execution_count": 40,
      "outputs": [
        {
          "output_type": "stream",
          "name": "stdout",
          "text": [
            "Volatilidades CSCO    0.078245\n",
            "DIS     0.092705\n",
            "GM      0.114799\n",
            "KO      0.057042\n",
            "MA      0.080658\n",
            "PG      0.050212\n",
            "SBUX    0.076941\n",
            "TXN     0.071112\n",
            "V       0.067957\n",
            "VZ      0.049448\n",
            "dtype: float64\n"
          ]
        }
      ]
    },
    {
      "cell_type": "code",
      "source": [
        "#ranqueo de retornos de menor a mayor \n",
        "R=(Sigma*np.sqrt(12)).sort_values()\n",
        "TR= pd.DataFrame(R)\n",
        "TR"
      ],
      "metadata": {
        "colab": {
          "base_uri": "https://localhost:8080/",
          "height": 363
        },
        "id": "aoFUxgqnHQUQ",
        "outputId": "4edc11ce-5499-41f3-cc36-43b9f280d4d7"
      },
      "execution_count": 41,
      "outputs": [
        {
          "output_type": "execute_result",
          "data": {
            "text/plain": [
              "             0\n",
              "VZ    0.171293\n",
              "PG    0.173939\n",
              "KO    0.197600\n",
              "V     0.235410\n",
              "TXN   0.246340\n",
              "SBUX  0.266532\n",
              "CSCO  0.271049\n",
              "MA    0.279407\n",
              "DIS   0.321140\n",
              "GM    0.397677"
            ],
            "text/html": [
              "\n",
              "  <div id=\"df-8da8cc65-62aa-49d4-80a6-5c64e3b967a4\">\n",
              "    <div class=\"colab-df-container\">\n",
              "      <div>\n",
              "<style scoped>\n",
              "    .dataframe tbody tr th:only-of-type {\n",
              "        vertical-align: middle;\n",
              "    }\n",
              "\n",
              "    .dataframe tbody tr th {\n",
              "        vertical-align: top;\n",
              "    }\n",
              "\n",
              "    .dataframe thead th {\n",
              "        text-align: right;\n",
              "    }\n",
              "</style>\n",
              "<table border=\"1\" class=\"dataframe\">\n",
              "  <thead>\n",
              "    <tr style=\"text-align: right;\">\n",
              "      <th></th>\n",
              "      <th>0</th>\n",
              "    </tr>\n",
              "  </thead>\n",
              "  <tbody>\n",
              "    <tr>\n",
              "      <th>VZ</th>\n",
              "      <td>0.171293</td>\n",
              "    </tr>\n",
              "    <tr>\n",
              "      <th>PG</th>\n",
              "      <td>0.173939</td>\n",
              "    </tr>\n",
              "    <tr>\n",
              "      <th>KO</th>\n",
              "      <td>0.197600</td>\n",
              "    </tr>\n",
              "    <tr>\n",
              "      <th>V</th>\n",
              "      <td>0.235410</td>\n",
              "    </tr>\n",
              "    <tr>\n",
              "      <th>TXN</th>\n",
              "      <td>0.246340</td>\n",
              "    </tr>\n",
              "    <tr>\n",
              "      <th>SBUX</th>\n",
              "      <td>0.266532</td>\n",
              "    </tr>\n",
              "    <tr>\n",
              "      <th>CSCO</th>\n",
              "      <td>0.271049</td>\n",
              "    </tr>\n",
              "    <tr>\n",
              "      <th>MA</th>\n",
              "      <td>0.279407</td>\n",
              "    </tr>\n",
              "    <tr>\n",
              "      <th>DIS</th>\n",
              "      <td>0.321140</td>\n",
              "    </tr>\n",
              "    <tr>\n",
              "      <th>GM</th>\n",
              "      <td>0.397677</td>\n",
              "    </tr>\n",
              "  </tbody>\n",
              "</table>\n",
              "</div>\n",
              "      <button class=\"colab-df-convert\" onclick=\"convertToInteractive('df-8da8cc65-62aa-49d4-80a6-5c64e3b967a4')\"\n",
              "              title=\"Convert this dataframe to an interactive table.\"\n",
              "              style=\"display:none;\">\n",
              "        \n",
              "  <svg xmlns=\"http://www.w3.org/2000/svg\" height=\"24px\"viewBox=\"0 0 24 24\"\n",
              "       width=\"24px\">\n",
              "    <path d=\"M0 0h24v24H0V0z\" fill=\"none\"/>\n",
              "    <path d=\"M18.56 5.44l.94 2.06.94-2.06 2.06-.94-2.06-.94-.94-2.06-.94 2.06-2.06.94zm-11 1L8.5 8.5l.94-2.06 2.06-.94-2.06-.94L8.5 2.5l-.94 2.06-2.06.94zm10 10l.94 2.06.94-2.06 2.06-.94-2.06-.94-.94-2.06-.94 2.06-2.06.94z\"/><path d=\"M17.41 7.96l-1.37-1.37c-.4-.4-.92-.59-1.43-.59-.52 0-1.04.2-1.43.59L10.3 9.45l-7.72 7.72c-.78.78-.78 2.05 0 2.83L4 21.41c.39.39.9.59 1.41.59.51 0 1.02-.2 1.41-.59l7.78-7.78 2.81-2.81c.8-.78.8-2.07 0-2.86zM5.41 20L4 18.59l7.72-7.72 1.47 1.35L5.41 20z\"/>\n",
              "  </svg>\n",
              "      </button>\n",
              "      \n",
              "  <style>\n",
              "    .colab-df-container {\n",
              "      display:flex;\n",
              "      flex-wrap:wrap;\n",
              "      gap: 12px;\n",
              "    }\n",
              "\n",
              "    .colab-df-convert {\n",
              "      background-color: #E8F0FE;\n",
              "      border: none;\n",
              "      border-radius: 50%;\n",
              "      cursor: pointer;\n",
              "      display: none;\n",
              "      fill: #1967D2;\n",
              "      height: 32px;\n",
              "      padding: 0 0 0 0;\n",
              "      width: 32px;\n",
              "    }\n",
              "\n",
              "    .colab-df-convert:hover {\n",
              "      background-color: #E2EBFA;\n",
              "      box-shadow: 0px 1px 2px rgba(60, 64, 67, 0.3), 0px 1px 3px 1px rgba(60, 64, 67, 0.15);\n",
              "      fill: #174EA6;\n",
              "    }\n",
              "\n",
              "    [theme=dark] .colab-df-convert {\n",
              "      background-color: #3B4455;\n",
              "      fill: #D2E3FC;\n",
              "    }\n",
              "\n",
              "    [theme=dark] .colab-df-convert:hover {\n",
              "      background-color: #434B5C;\n",
              "      box-shadow: 0px 1px 3px 1px rgba(0, 0, 0, 0.15);\n",
              "      filter: drop-shadow(0px 1px 2px rgba(0, 0, 0, 0.3));\n",
              "      fill: #FFFFFF;\n",
              "    }\n",
              "  </style>\n",
              "\n",
              "      <script>\n",
              "        const buttonEl =\n",
              "          document.querySelector('#df-8da8cc65-62aa-49d4-80a6-5c64e3b967a4 button.colab-df-convert');\n",
              "        buttonEl.style.display =\n",
              "          google.colab.kernel.accessAllowed ? 'block' : 'none';\n",
              "\n",
              "        async function convertToInteractive(key) {\n",
              "          const element = document.querySelector('#df-8da8cc65-62aa-49d4-80a6-5c64e3b967a4');\n",
              "          const dataTable =\n",
              "            await google.colab.kernel.invokeFunction('convertToInteractive',\n",
              "                                                     [key], {});\n",
              "          if (!dataTable) return;\n",
              "\n",
              "          const docLinkHtml = 'Like what you see? Visit the ' +\n",
              "            '<a target=\"_blank\" href=https://colab.research.google.com/notebooks/data_table.ipynb>data table notebook</a>'\n",
              "            + ' to learn more about interactive tables.';\n",
              "          element.innerHTML = '';\n",
              "          dataTable['output_type'] = 'display_data';\n",
              "          await google.colab.output.renderOutput(dataTable, element);\n",
              "          const docLink = document.createElement('div');\n",
              "          docLink.innerHTML = docLinkHtml;\n",
              "          element.appendChild(docLink);\n",
              "        }\n",
              "      </script>\n",
              "    </div>\n",
              "  </div>\n",
              "  "
            ]
          },
          "metadata": {},
          "execution_count": 41
        }
      ]
    },
    {
      "cell_type": "markdown",
      "source": [
        "Punto 3\n",
        "\n",
        "3. Descargue la serie mensual de precios del índice estadounidense Rusell para el periodo\n",
        "Dic-11 a Dic-2022. Con esta información calcule la volatilidad mensual y anualizada usando\n",
        "las siguientes medidas:\n",
        "\n",
        "\n"
      ],
      "metadata": {
        "id": "OSSlSwV3V0DZ"
      }
    },
    {
      "cell_type": "code",
      "source": [
        "ACTIVOS = \"^RUT\"\n",
        "PRECIOS = yf.download(ACTIVOS,start=\"2011-12-01\", end=\"2022-12-31\", interval=\"1Mo\")[\"Adj Close\"].dropna()\n",
        "PRECIOS"
      ],
      "metadata": {
        "colab": {
          "base_uri": "https://localhost:8080/"
        },
        "id": "S40y1CJrhzWV",
        "outputId": "eeed8b74-1920-47ca-970e-d332e9315675"
      },
      "execution_count": 42,
      "outputs": [
        {
          "output_type": "stream",
          "name": "stdout",
          "text": [
            "\r[*********************100%***********************]  1 of 1 completed\n"
          ]
        },
        {
          "output_type": "execute_result",
          "data": {
            "text/plain": [
              "Date\n",
              "2011-12-01     740.919983\n",
              "2012-01-01     792.820007\n",
              "2012-02-01     810.940002\n",
              "2012-03-01     830.299988\n",
              "2012-04-01     816.880005\n",
              "                 ...     \n",
              "2022-08-01    1844.119995\n",
              "2022-09-01    1664.719971\n",
              "2022-10-01    1846.859985\n",
              "2022-11-01    1886.579956\n",
              "2022-12-01    1761.250000\n",
              "Name: Adj Close, Length: 133, dtype: float64"
            ]
          },
          "metadata": {},
          "execution_count": 42
        }
      ]
    },
    {
      "cell_type": "code",
      "source": [],
      "metadata": {
        "id": "vztUZub63cUs"
      },
      "execution_count": 42,
      "outputs": []
    },
    {
      "cell_type": "code",
      "source": [
        "#retornos mensuales\n",
        "RETORNOS = np.log(PRECIOS/PRECIOS.shift(1)).dropna()\n",
        "Retornos_mensuales = RETORNOS.mean()\n",
        "Retornos_mensuales"
      ],
      "metadata": {
        "colab": {
          "base_uri": "https://localhost:8080/"
        },
        "id": "u2U2qX_DpPgt",
        "outputId": "b32e550a-1911-4ec8-f729-c0524af11c38"
      },
      "execution_count": 43,
      "outputs": [
        {
          "output_type": "execute_result",
          "data": {
            "text/plain": [
              "0.006559745674424816"
            ]
          },
          "metadata": {},
          "execution_count": 43
        }
      ]
    },
    {
      "cell_type": "code",
      "source": [
        "#Retornos anuales \n",
        "Retornos_Anuales = Retornos_mensuales*12\n",
        "Retornos_Anuales"
      ],
      "metadata": {
        "colab": {
          "base_uri": "https://localhost:8080/"
        },
        "id": "qfJQrxGXqH83",
        "outputId": "28f71d83-1ea3-4b0f-b080-8b1c8b3d78de"
      },
      "execution_count": 44,
      "outputs": [
        {
          "output_type": "execute_result",
          "data": {
            "text/plain": [
              "0.07871694809309779"
            ]
          },
          "metadata": {},
          "execution_count": 44
        }
      ]
    },
    {
      "cell_type": "markdown",
      "source": [
        "**a. Desviación Estándar**"
      ],
      "metadata": {
        "id": "IVmr8NhGegVR"
      }
    },
    {
      "cell_type": "code",
      "source": [
        "#mensual\n",
        "RETORNOS.std()\n",
        "\n"
      ],
      "metadata": {
        "colab": {
          "base_uri": "https://localhost:8080/"
        },
        "id": "HAZUmv8tGSlw",
        "outputId": "07611394-5ba6-489c-ccdf-6d6ae3fef3b4"
      },
      "execution_count": 45,
      "outputs": [
        {
          "output_type": "execute_result",
          "data": {
            "text/plain": [
              "0.05474479591479422"
            ]
          },
          "metadata": {},
          "execution_count": 45
        }
      ]
    },
    {
      "cell_type": "code",
      "source": [
        "#Anual\n",
        "RETORNOS.std()*np.sqrt(12)"
      ],
      "metadata": {
        "colab": {
          "base_uri": "https://localhost:8080/"
        },
        "id": "fjPrkT4s0h6c",
        "outputId": "9fece94a-35cb-4661-f0f2-5d7b00b079e4"
      },
      "execution_count": 46,
      "outputs": [
        {
          "output_type": "execute_result",
          "data": {
            "text/plain": [
              "0.18964153594882538"
            ]
          },
          "metadata": {},
          "execution_count": 46
        }
      ]
    },
    {
      "cell_type": "markdown",
      "source": [
        "**b. Parkinson**"
      ],
      "metadata": {
        "id": "Dy6MFxZB0sSF"
      }
    },
    {
      "cell_type": "code",
      "source": [
        "ACTIVOS = \"^RUT\"\n",
        "PRECIOS1 = yf.download(ACTIVOS,start=\"2011-12-01\", end=\"2022-12-31\", interval=\"1Mo\").dropna()"
      ],
      "metadata": {
        "colab": {
          "base_uri": "https://localhost:8080/"
        },
        "id": "UENtjYhg3jdE",
        "outputId": "19d23e51-f6a9-44c1-e9a4-0470774c646f"
      },
      "execution_count": 47,
      "outputs": [
        {
          "output_type": "stream",
          "name": "stdout",
          "text": [
            "\r[*********************100%***********************]  1 of 1 completed\n"
          ]
        }
      ]
    },
    {
      "cell_type": "code",
      "source": [
        "#Mensual\n",
        "lnHL = np.log(PRECIOS1[\"High\"]/PRECIOS1[\"Low\"]).dropna()  \n",
        "sigmaPark_d = ((1/(4*np.log(2)))*lnHL**2)**0.5 \n",
        "sigmaPark_d.mean()"
      ],
      "metadata": {
        "colab": {
          "base_uri": "https://localhost:8080/"
        },
        "id": "5nPRE5h03xlq",
        "outputId": "dcee116b-f530-4792-b823-4eba8a10cce4"
      },
      "execution_count": 48,
      "outputs": [
        {
          "output_type": "execute_result",
          "data": {
            "text/plain": [
              "0.05101216195814947"
            ]
          },
          "metadata": {},
          "execution_count": 48
        }
      ]
    },
    {
      "cell_type": "code",
      "source": [
        "#ANUAL\n",
        "(sigmaPark_d.mean())*np.sqrt(12)"
      ],
      "metadata": {
        "colab": {
          "base_uri": "https://localhost:8080/"
        },
        "id": "6rbDKCUv0tQl",
        "outputId": "7227d1bc-2f1b-47d0-988a-44d1d6b9c1cb"
      },
      "execution_count": 49,
      "outputs": [
        {
          "output_type": "execute_result",
          "data": {
            "text/plain": [
              "0.1767113126308943"
            ]
          },
          "metadata": {},
          "execution_count": 49
        }
      ]
    },
    {
      "cell_type": "markdown",
      "source": [
        "**c. Garman-Klass**"
      ],
      "metadata": {
        "id": "St53im0B0255"
      }
    },
    {
      "cell_type": "code",
      "source": [
        "#Mensual\n",
        "lnHL = np.log(PRECIOS1[\"High\"]/PRECIOS1[\"Low\"]).dropna()\n",
        "LnCO = np.log(PRECIOS1[\"Close\"]/PRECIOS1[\"Open\"]).dropna()\n",
        "sigmaGK_d = (0.5*lnHL**2-(2*np.log(2)-1)*LnCO**2)**0.5\n",
        "sigmaGK_d.mean()"
      ],
      "metadata": {
        "colab": {
          "base_uri": "https://localhost:8080/"
        },
        "id": "v_KKk4Uv0r0m",
        "outputId": "aac5c738-e729-4888-e3a9-bc1643e4b723"
      },
      "execution_count": 50,
      "outputs": [
        {
          "output_type": "execute_result",
          "data": {
            "text/plain": [
              "0.05239855062447297"
            ]
          },
          "metadata": {},
          "execution_count": 50
        }
      ]
    },
    {
      "cell_type": "code",
      "source": [
        "#Anual\n",
        "sigmaGK_d.mean()*np.sqrt(12)"
      ],
      "metadata": {
        "colab": {
          "base_uri": "https://localhost:8080/"
        },
        "id": "kcPCPneX47yJ",
        "outputId": "4cf32ed4-f119-476b-f8e2-56f3cbca6481"
      },
      "execution_count": 51,
      "outputs": [
        {
          "output_type": "execute_result",
          "data": {
            "text/plain": [
              "0.1815139038491142"
            ]
          },
          "metadata": {},
          "execution_count": 51
        }
      ]
    },
    {
      "cell_type": "markdown",
      "source": [
        "**d. Volatilidad EWMA Lambda de 0.94**"
      ],
      "metadata": {
        "id": "LEf-3wSiz_p0"
      }
    },
    {
      "cell_type": "code",
      "source": [
        "def vol_ewma(Retornos_mensuales,Lambda):\n",
        "  k=len(RETORNOS)\n",
        "  td=np.arange(k-1,-1,-1)\n",
        "  alpha= Lambda**td\n",
        "  var_s=(RETORNOS**2*alpha).sum()*(1-Lambda)\n",
        "  M=np.sqrt(var_s)\n",
        "  return (M)"
      ],
      "metadata": {
        "id": "Jq9yw-EzqpSa"
      },
      "execution_count": 52,
      "outputs": []
    },
    {
      "cell_type": "code",
      "source": [
        "vol_ewma(Retornos_mensuales,Lambda=0.94)"
      ],
      "metadata": {
        "colab": {
          "base_uri": "https://localhost:8080/"
        },
        "id": "qW5l6njvo4uk",
        "outputId": "6524d256-501d-47ee-f41f-8ab0ef0b702a"
      },
      "execution_count": 53,
      "outputs": [
        {
          "output_type": "execute_result",
          "data": {
            "text/plain": [
              "0.06830769009655513"
            ]
          },
          "metadata": {},
          "execution_count": 53
        }
      ]
    },
    {
      "cell_type": "code",
      "source": [
        "def vol_ewma(Retornos_Anuales,Lambda):\n",
        "  k=len(RETORNOS)\n",
        "  td=np.arange(k-1,-1,-1)\n",
        "  alpha= Lambda**td\n",
        "  var_s=(RETORNOS**2*alpha).sum()*(1-Lambda)\n",
        "  vol_m=np.sqrt(var_s)\n",
        "  A=vol_m*np.sqrt(12)\n",
        "  return (A)"
      ],
      "metadata": {
        "id": "hpC1TKdKqlzQ"
      },
      "execution_count": 54,
      "outputs": []
    },
    {
      "cell_type": "code",
      "source": [
        "vol_ewma(Retornos_Anuales,Lambda=0.94)"
      ],
      "metadata": {
        "colab": {
          "base_uri": "https://localhost:8080/"
        },
        "id": "iUzgxCofsAM7",
        "outputId": "b29a26e1-d009-47f1-f171-b343c7a2d69b"
      },
      "execution_count": 55,
      "outputs": [
        {
          "output_type": "execute_result",
          "data": {
            "text/plain": [
              "0.23662477958980582"
            ]
          },
          "metadata": {},
          "execution_count": 55
        }
      ]
    }
  ]
}